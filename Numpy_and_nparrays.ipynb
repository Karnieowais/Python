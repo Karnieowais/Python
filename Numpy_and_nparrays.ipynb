{
 "cells": [
  {
   "cell_type": "markdown",
   "metadata": {},
   "source": [
    "#=============For Font Change=========================\n",
    "\n",
    "!jt -t grade3 -tf firacode -tfs 13 -mathfs 110 -fs 13 -N -T"
   ]
  },
  {
   "cell_type": "markdown",
   "metadata": {},
   "source": [
    "#========================For Theme Change===============================\n",
    "\n",
    "!jt -t oceans16"
   ]
  },
  {
   "cell_type": "markdown",
   "metadata": {},
   "source": [
    "# Numpy Arrays\n",
    "linear algebra  libraary, important for data science. all the libraries in the pydata ecosystem rely on Numpy,"
   ]
  },
  {
   "cell_type": "code",
   "execution_count": 31,
   "metadata": {},
   "outputs": [],
   "source": [
    "#library imports for numpy array\n",
    "\n",
    "import numpy as np\n",
    "from numpy import array\n",
    "from numpy import empty"
   ]
  },
  {
   "cell_type": "code",
   "execution_count": 22,
   "metadata": {},
   "outputs": [
    {
     "name": "stdout",
     "output_type": "stream",
     "text": [
      "[1. 2. 3. 4.]\n"
     ]
    }
   ],
   "source": [
    "l=[1.0,2.0,3.0,4.0]   #========== 'l'  is the list here\n",
    "a=array(l)          #===============this converts the array list 'l' inton the array 'a'\n",
    "\n",
    "print(a)   #============prints the arrray 'a'"
   ]
  },
  {
   "cell_type": "code",
   "execution_count": 26,
   "metadata": {},
   "outputs": [
    {
     "name": "stdout",
     "output_type": "stream",
     "text": [
      "(4,)\n"
     ]
    },
    {
     "data": {
      "text/plain": [
       "(4,)"
      ]
     },
     "execution_count": 26,
     "metadata": {},
     "output_type": "execute_result"
    }
   ],
   "source": [
    "#======= Arrays have an inbuilt method namenl 'shape()' that determines the shape of the given array\n",
    "print(a.shape)  #============OR\n",
    "a.shape"
   ]
  },
  {
   "cell_type": "code",
   "execution_count": 27,
   "metadata": {},
   "outputs": [
    {
     "name": "stdout",
     "output_type": "stream",
     "text": [
      "[[6.90574425e-310 6.90574425e-310 0.00000000e+000]\n",
      " [0.00000000e+000 0.00000000e+000 5.30276956e+180]\n",
      " [1.57076922e-076 4.57399529e-071 3.25746024e-086]]\n"
     ]
    }
   ],
   "source": [
    "emp=np.empty([3,3])\n",
    "print(emp)"
   ]
  },
  {
   "cell_type": "code",
   "execution_count": 29,
   "metadata": {},
   "outputs": [
    {
     "name": "stdout",
     "output_type": "stream",
     "text": [
      "[[0. 0. 0. 0. 0.]\n",
      " [0. 0. 0. 0. 0.]\n",
      " [0. 0. 0. 0. 0.]]\n"
     ]
    },
    {
     "data": {
      "text/plain": [
       "(3, 5)"
      ]
     },
     "execution_count": 29,
     "metadata": {},
     "output_type": "execute_result"
    }
   ],
   "source": [
    "#==========To create an array with all the elements '0' in it==========\n",
    "#========== The argument in the brackets indicate the dimensions of the array\n",
    "\n",
    "a1=np.zeros([3,5])\n",
    "print(a1)\n",
    "\n",
    "a1.shape  # =============Shape of the created array=========="
   ]
  },
  {
   "cell_type": "code",
   "execution_count": 32,
   "metadata": {},
   "outputs": [
    {
     "name": "stdout",
     "output_type": "stream",
     "text": [
      "[[1. 1. 1. 1. 1.]\n",
      " [1. 1. 1. 1. 1.]\n",
      " [1. 1. 1. 1. 1.]]\n"
     ]
    },
    {
     "data": {
      "text/plain": [
       "(3, 5)"
      ]
     },
     "execution_count": 32,
     "metadata": {},
     "output_type": "execute_result"
    }
   ],
   "source": [
    "# =================To Create an array with all elements equall to one use \"ones()\" an inbuilt function\n",
    "a2=np.ones([3,5])\n",
    "print(a2)\n",
    "\n",
    "a2.shape  #===========the shape of the created array=============="
   ]
  },
  {
   "cell_type": "code",
   "execution_count": 33,
   "metadata": {},
   "outputs": [],
   "source": [
    "#============Vstack is an inbuilt fuction that stacks one array to other vertically on it=================\n",
    "a3=np.vstack((a1,a2))\n",
    "print(a3)"
   ]
  },
  {
   "cell_type": "code",
   "execution_count": 38,
   "metadata": {},
   "outputs": [],
   "source": [
    "#========hstack is an inbuilt function that stack two arrys horizontially===========\n",
    "x1=[1,2,3,4]\n",
    "x2=[5,6,7,8]\n",
    "a4=np.hstack((x1,x2))\n",
    "print(a4)"
   ]
  },
  {
   "cell_type": "markdown",
   "metadata": {},
   "source": [
    "# array slicing"
   ]
  },
  {
   "cell_type": "code",
   "execution_count": 49,
   "metadata": {},
   "outputs": [
    {
     "name": "stdout",
     "output_type": "stream",
     "text": [
      "[[1, 2, 3], [4, 5, 6], [7, 8, 9]]\n",
      "=======================================================\n",
      "[[1 2 3]\n",
      " [4 5 6]\n",
      " [7 8 9]]\n"
     ]
    }
   ],
   "source": [
    "lis = [[1,2,3], [4,5,6], [7,8,9]]\n",
    "print(lis)\n",
    "\n",
    "print(\"=======================================================\")\n",
    "slic = np.array(lis)\n",
    "print(slic)"
   ]
  },
  {
   "cell_type": "code",
   "execution_count": 51,
   "metadata": {},
   "outputs": [
    {
     "name": "stdout",
     "output_type": "stream",
     "text": [
      "[[4 5 6]\n",
      " [7 8 9]]\n"
     ]
    }
   ],
   "source": [
    "#=======this slice will print from 2nd row onwards with all colomuns==============\n",
    "print(slic[1:])"
   ]
  },
  {
   "cell_type": "code",
   "execution_count": 53,
   "metadata": {},
   "outputs": [],
   "source": [
    "twod=array([[10,20,30],[40,50,60],[70,80,90]])"
   ]
  },
  {
   "cell_type": "code",
   "execution_count": 54,
   "metadata": {},
   "outputs": [
    {
     "name": "stdout",
     "output_type": "stream",
     "text": [
      "[[10 20 30]\n",
      " [40 50 60]\n",
      " [70 80 90]]\n"
     ]
    }
   ],
   "source": [
    "print(twod)"
   ]
  },
  {
   "cell_type": "code",
   "execution_count": 55,
   "metadata": {},
   "outputs": [
    {
     "name": "stdout",
     "output_type": "stream",
     "text": [
      "[[10 20]\n",
      " [40 50]\n",
      " [70 80]]\n"
     ]
    }
   ],
   "source": [
    "td=twod[:, :-1]\n",
    "#===========this will slice the last column but print rest of the columns and all the rows\n",
    "print(td)"
   ]
  },
  {
   "cell_type": "code",
   "execution_count": 58,
   "metadata": {},
   "outputs": [
    {
     "name": "stdout",
     "output_type": "stream",
     "text": [
      "[30 60 90]\n"
     ]
    }
   ],
   "source": [
    "tc=twod[:,-1] \n",
    "#===============this will print only the last column and rest of the columns and all the rows will be sliced\n",
    "print(tc)"
   ]
  },
  {
   "cell_type": "code",
   "execution_count": 79,
   "metadata": {},
   "outputs": [],
   "source": [
    "data=np.array([11,22,33,44,55,66])"
   ]
  },
  {
   "cell_type": "code",
   "execution_count": 80,
   "metadata": {},
   "outputs": [
    {
     "data": {
      "text/plain": [
       "array([11, 22, 33, 44, 55, 66])"
      ]
     },
     "execution_count": 80,
     "metadata": {},
     "output_type": "execute_result"
    }
   ],
   "source": [
    "data"
   ]
  },
  {
   "cell_type": "code",
   "execution_count": 81,
   "metadata": {},
   "outputs": [
    {
     "data": {
      "text/plain": [
       "(6,)"
      ]
     },
     "execution_count": 81,
     "metadata": {},
     "output_type": "execute_result"
    }
   ],
   "source": [
    "data.shape"
   ]
  },
  {
   "cell_type": "code",
   "execution_count": 82,
   "metadata": {},
   "outputs": [
    {
     "data": {
      "text/plain": [
       "array([[11, 22],\n",
       "       [33, 44],\n",
       "       [55, 66]])"
      ]
     },
     "execution_count": 82,
     "metadata": {},
     "output_type": "execute_result"
    }
   ],
   "source": [
    "#========To change the shape of the arrray, numpy has an inbuilt method called as \"reshape()\"\n",
    "#========this changes the shape of the array according to to the given arguments\n",
    "data.reshape(3,2)\n",
    "#=========The above code will  change the array into 2D array of Shape with three rows and two columns"
   ]
  },
  {
   "cell_type": "code",
   "execution_count": 61,
   "metadata": {},
   "outputs": [],
   "source": [
    "data=data.reshape((data.shape[0],1))"
   ]
  },
  {
   "cell_type": "code",
   "execution_count": 10,
   "metadata": {},
   "outputs": [
    {
     "data": {
      "text/plain": [
       "array([[11],\n",
       "       [22],\n",
       "       [33],\n",
       "       [44],\n",
       "       [55],\n",
       "       [66]])"
      ]
     },
     "execution_count": 10,
     "metadata": {},
     "output_type": "execute_result"
    }
   ],
   "source": [
    "data"
   ]
  },
  {
   "cell_type": "code",
   "execution_count": 91,
   "metadata": {},
   "outputs": [
    {
     "data": {
      "text/plain": [
       "(6, 1)"
      ]
     },
     "execution_count": 91,
     "metadata": {},
     "output_type": "execute_result"
    }
   ],
   "source": [
    "data.shape"
   ]
  },
  {
   "cell_type": "code",
   "execution_count": 100,
   "metadata": {},
   "outputs": [],
   "source": [
    "a=np.array([1,2,3])\n",
    "b=2"
   ]
  },
  {
   "cell_type": "code",
   "execution_count": 103,
   "metadata": {},
   "outputs": [],
   "source": [
    "c=a+b\n",
    "\n",
    "#===========This adds the integer value to the array  by element wise to all elements in it"
   ]
  },
  {
   "cell_type": "code",
   "execution_count": 104,
   "metadata": {},
   "outputs": [
    {
     "data": {
      "text/plain": [
       "array([3, 4, 5])"
      ]
     },
     "execution_count": 104,
     "metadata": {},
     "output_type": "execute_result"
    }
   ],
   "source": [
    "c"
   ]
  },
  {
   "cell_type": "code",
   "execution_count": 25,
   "metadata": {},
   "outputs": [
    {
     "name": "stdout",
     "output_type": "stream",
     "text": [
      "Enter the number to search in the array : 3\n",
      "Element 3 not found!\n"
     ]
    }
   ],
   "source": [
    "\n",
    "arry=[2,4,6,8,10]\n",
    "def findNumber(arr):\n",
    "    \n",
    "    \n",
    "    global arry\n",
    "    #print(len(arry))\n",
    "    \n",
    "    n = int(input(\"Enter the number to search in the array : \"))\n",
    "    for i in arr:\n",
    "        if n in arr:\n",
    "            print(\"Element {} found..! \".format(n,i))\n",
    "            break\n",
    "        else:\n",
    "            print(\"Element {} not found!\".format(n))\n",
    "            break\n",
    "    arry.append(n)\n",
    "findNumber(arry)"
   ]
  },
  {
   "cell_type": "code",
   "execution_count": 26,
   "metadata": {},
   "outputs": [
    {
     "data": {
      "text/plain": [
       "[2, 4, 6, 8, 10, 3]"
      ]
     },
     "execution_count": 26,
     "metadata": {},
     "output_type": "execute_result"
    }
   ],
   "source": [
    "arry"
   ]
  },
  {
   "cell_type": "code",
   "execution_count": 21,
   "metadata": {},
   "outputs": [
    {
     "name": "stdout",
     "output_type": "stream",
     "text": [
      "3\n",
      "5\n",
      "7\n"
     ]
    }
   ],
   "source": [
    "def oddNumbers(l, r):\n",
    "    # Write your code hereor \n",
    "    for i in range(l,r):\n",
    "        if(i%2!=0):\n",
    "            print(i)\n",
    "oddNumbers(2,9)"
   ]
  },
  {
   "cell_type": "code",
   "execution_count": 34,
   "metadata": {},
   "outputs": [],
   "source": [
    "Max = np.array(arry)"
   ]
  },
  {
   "cell_type": "code",
   "execution_count": 37,
   "metadata": {},
   "outputs": [
    {
     "name": "stdout",
     "output_type": "stream",
     "text": [
      "Maximum element of array is :  10\n",
      "Minimum  element of the array id :  2\n"
     ]
    }
   ],
   "source": [
    "print(\"Maximum element of array is : \", Max.max())\n",
    "print(\"Minimum  element of the array id : \",Max.min())"
   ]
  },
  {
   "cell_type": "code",
   "execution_count": null,
   "metadata": {},
   "outputs": [],
   "source": []
  },
  {
   "cell_type": "code",
   "execution_count": 39,
   "metadata": {},
   "outputs": [
    {
     "name": "stdout",
     "output_type": "stream",
     "text": [
      "The index of the maximum element of the array is ........... 4\n",
      "The index minimum element of the the array is .............. 0\n"
     ]
    }
   ],
   "source": [
    "print(\"The index of the maximum element of the array is ...........\",Max.argmax())\n",
    "print(\"The index minimum element of the the array is ..............\", Max.argmin())"
   ]
  },
  {
   "cell_type": "code",
   "execution_count": 53,
   "metadata": {},
   "outputs": [
    {
     "name": "stdout",
     "output_type": "stream",
     "text": [
      "In this Broadcasting the change will be reflected in the orginal array.\n",
      "Array Before Broadcasting.........:  [1 2 3 4 5 6 7 8 9]\n",
      "\n",
      "\n",
      "=================================================================\n",
      "\n",
      "\n",
      "Array after Braodcasting...... :  [500 500 500 500 500   6   7   8   9]\n"
     ]
    }
   ],
   "source": [
    "#======The arrays differ from list by broadcasting i-e in lists there is no concept of broadcasting============\n",
    "print(\"In this Broadcasting the change will be reflected in the orginal array.\")\n",
    "\n",
    "list = [1,2,3,4,5,6,7,8,9]\n",
    "\n",
    "ARRAY = np.array(list)\n",
    "print(\"Array Before Broadcasting.........: \",ARRAY)\n",
    "print(\"\\n\")\n",
    "print(\"=================================================================\")\n",
    "ARRAY[0:5] = 500\n",
    "print(\"\\n\")\n",
    "print(\"Array after Braodcasting...... : \",ARRAY)\n",
    "\n"
   ]
  },
  {
   "cell_type": "code",
   "execution_count": 59,
   "metadata": {},
   "outputs": [
    {
     "name": "stdout",
     "output_type": "stream",
     "text": [
      "In this type of Bradcasting the change will not be reflected in the orginal array.\n",
      "[100 100 100 100 100 100 100 100 100]\n"
     ]
    }
   ],
   "source": [
    "print(\"In this type of Bradcasting the change will not be reflected in the orginal array.\")\n",
    "\n",
    "Array_copy = ARRAY.copy()\n",
    "Array_copy[:] = 100\n",
    "print(Array_copy)\n",
    "\n",
    "#====== here the change will not be reflected in the orginal array==========="
   ]
  },
  {
   "cell_type": "code",
   "execution_count": 60,
   "metadata": {},
   "outputs": [
    {
     "data": {
      "text/plain": [
       "array([500, 500, 500, 500, 500, 500, 500, 500, 500])"
      ]
     },
     "execution_count": 60,
     "metadata": {},
     "output_type": "execute_result"
    }
   ],
   "source": [
    "ARRAY"
   ]
  },
  {
   "cell_type": "code",
   "execution_count": 62,
   "metadata": {},
   "outputs": [
    {
     "name": "stdout",
     "output_type": "stream",
     "text": [
      "[ 12  12  23  35  10  10 500  50  50]\n"
     ]
    }
   ],
   "source": [
    "ARRAY[:2] = 12\n",
    "ARRAY[2:3] = 23\n",
    "ARRAY[3:4] = 35\n",
    "ARRAY[4:6] = 10\n",
    "ARRAY[7:9] = 50\n",
    "\n",
    "print(ARRAY)"
   ]
  },
  {
   "cell_type": "markdown",
   "metadata": {},
   "source": [
    "# Numpy operations"
   ]
  },
  {
   "cell_type": "code",
   "execution_count": 66,
   "metadata": {},
   "outputs": [
    {
     "name": "stdout",
     "output_type": "stream",
     "text": [
      "Array after Addition .................. :  [  24   24   46   70   20   20 1000  100  100]\n",
      "\n",
      "\n",
      "Array fater Subtraction............... : [0 0 0 0 0 0 0 0 0]\n",
      "\n",
      "\n",
      "The square of the array is ................ :  [ 12  12  23  35  10  10 500  50  50]\n"
     ]
    }
   ],
   "source": [
    "ADDED_ARRAY = ARRAY + ARRAY   #=========== addition of two  numpy arrays =============\n",
    "\n",
    "print(\"Array after Addition .................. : \", ADDED_ARRAY)\n",
    "print(\"\\n\")\n",
    "\n",
    "SUB_ARRAY = ARRAY - ARRAY     #============Subtraction of Two Arrays==================\n",
    "print(\"Array fater Subtraction............... :\",SUB_ARRAY)\n",
    "print(\"\\n\")\n",
    "\n",
    "POW_ARRAY = ARRAY ** 2     #===========Square of an Array========================\n",
    "print(\"The square of the array is ................ : \", ARRAY)"
   ]
  },
  {
   "cell_type": "code",
   "execution_count": 67,
   "metadata": {},
   "outputs": [
    {
     "name": "stdout",
     "output_type": "stream",
     "text": [
      "array after the addition of 100............:  [112 112 123 135 110 110 600 150 150]\n"
     ]
    }
   ],
   "source": [
    "ARRAY_100 = ARRAY + 100 #============Element wise addition of 100=================\n",
    "print(\"array after the addition of 100............: \",ARRAY_100)"
   ]
  },
  {
   "cell_type": "markdown",
   "metadata": {},
   "source": [
    "# Universal fuctions in Numpy"
   ]
  },
  {
   "cell_type": "code",
   "execution_count": 74,
   "metadata": {},
   "outputs": [
    {
     "name": "stdout",
     "output_type": "stream",
     "text": [
      "Array after squareroot......:  [ 3.46410162  3.46410162  4.79583152  5.91607978  3.16227766  3.16227766\n",
      " 22.36067977  7.07106781  7.07106781]\n",
      "\n",
      "\n",
      "Array after Exponential......:  [1.62754791e+005 1.62754791e+005 9.74480345e+009 1.58601345e+015\n",
      " 2.20264658e+004 2.20264658e+004 1.40359222e+217 5.18470553e+021\n",
      " 5.18470553e+021]\n",
      "\n",
      "\n",
      "Array maximum element of array....:  500\n",
      "\n",
      "\n",
      "Array after log......:  [2.48490665 2.48490665 3.13549422 3.55534806 2.30258509 2.30258509\n",
      " 6.2146081  3.91202301 3.91202301]\n",
      "\n",
      "\n",
      "Array after sin operation......:  [-0.53657292 -0.53657292 -0.8462204  -0.42818267 -0.54402111 -0.54402111\n",
      " -0.46777181 -0.26237485 -0.26237485]\n",
      "\n",
      "\n"
     ]
    }
   ],
   "source": [
    "print(\"Array after squareroot......: \",np.sqrt(ARRAY))\n",
    "print(\"\\n\")\n",
    "print(\"Array after Exponential......: \",(np.exp(ARRAY)))\n",
    "print(\"\\n\")\n",
    "print(\"Array maximum element of array....: \",np.max(ARRAY))\n",
    "print(\"\\n\")\n",
    "print(\"Array after log......: \",(np.log(ARRAY)))\n",
    "print(\"\\n\")\n",
    "print(\"Array after sin operation......: \",np.sin(ARRAY))\n",
    "print(\"\\n\")\n"
   ]
  },
  {
   "cell_type": "code",
   "execution_count": 76,
   "metadata": {},
   "outputs": [
    {
     "name": "stdout",
     "output_type": "stream",
     "text": [
      "[1.00000000e+001 1.62377674e+006 2.63665090e+011 4.28133240e+016\n",
      " 6.95192796e+021 1.12883789e+027 1.83298071e+032 2.97635144e+037\n",
      " 4.83293024e+042 7.84759970e+047 1.27427499e+053 2.06913808e+058\n",
      " 3.35981829e+063 5.45559478e+068 8.85866790e+073 1.43844989e+079\n",
      " 2.33572147e+084 3.79269019e+089 6.15848211e+094 1.00000000e+100]\n"
     ]
    }
   ],
   "source": [
    "Log_Space = np.logspace(1,100,20)  #=====logspace() it generates the logrithmic values  between the given numbers \n",
    "#                                  #=====in as arguments, here 20 indicates the total no. of numbers \n",
    "print(Log_Space)"
   ]
  },
  {
   "cell_type": "code",
   "execution_count": 99,
   "metadata": {},
   "outputs": [
    {
     "name": "stdout",
     "output_type": "stream",
     "text": [
      "[False False False False False False False False False]\n",
      "the mean of the given array is ..... 5.0\n",
      "The cumSum for given  array is ............:  [ 1  3  6 10 15 21 28 36 45]\n",
      "The varience of the given array is ......:  6.666666666666667\n",
      "The Squeeze of given array is.......:  <built-in method squeeze of numpy.ndarray object at 0x7f25082f4f30>\n",
      "[1 2 3 4 5 6 7 8 9]\n",
      "[1 2 3 4 5 6 7 8 9]\n"
     ]
    }
   ],
   "source": [
    "list = [1,2,3,4,5,6,7,8,9]\n",
    "arr_2D = np.array(list)\n",
    "arr_2D.reshape(3,3)\n",
    "print(np.isnan(arr_2D))\n",
    "\n",
    "print(\"the mean of the given array is .....\", np.mean(arr_2D))\n",
    "\n",
    "print(\"The cumSum for given  array is ............: \", arr_2D.cumsum())\n",
    "print(\"The varience of the given array is ......: \", np.var(arr_2D))\n",
    "print(\"The Squeeze of given array is.......: \", arr_2D.squeeze)\n",
    "\n",
    "A = arr_2D.flatten()\n",
    "\n",
    "B = arr_2D.ravel()\n",
    "\n",
    "print(A)\n",
    "\n",
    "print(B)\n",
    "\n"
   ]
  },
  {
   "cell_type": "code",
   "execution_count": 103,
   "metadata": {},
   "outputs": [
    {
     "name": "stdout",
     "output_type": "stream",
     "text": [
      "[1 2 3 4 5 6 7 8 9 1 2 3 4 5 6 7 8 9]\n",
      "[1 2 3 4 5 6 7 8 9 1 2 3 4 5 6 7 8 9]\n",
      "[1 1 2 2 3 3 4 4 5 5 6 6 7 7 8 8 9 9]\n",
      "[1 1 2 2 3 3 4 4 5 5 6 6 7 7 8 8 9 9]\n"
     ]
    }
   ],
   "source": [
    "print(np.tile(A,2))\n",
    "print(np.tile(B,2))\n",
    "\n",
    "\n",
    "\n",
    "print(np.repeat(A,2))\n",
    "\n",
    "print(np.repeat(B,2))"
   ]
  },
  {
   "cell_type": "code",
   "execution_count": 107,
   "metadata": {},
   "outputs": [
    {
     "name": "stdout",
     "output_type": "stream",
     "text": [
      "None\n"
     ]
    }
   ],
   "source": [
    "print(np.random.seed(1))  #======Seed function is used to save the state of random function, so that it can generate\n",
    "#======some random numbers on multiple execution of the code on the same machine or on different machines \n",
    "\n",
    "unique = np.unique(arr_2D)"
   ]
  },
  {
   "cell_type": "code",
   "execution_count": 108,
   "metadata": {},
   "outputs": [
    {
     "name": "stdout",
     "output_type": "stream",
     "text": [
      "(array([5, 6, 7, 8]),)\n"
     ]
    }
   ],
   "source": [
    "index = np.where(arr_2D > 5) #---------returns the indexes where the values are greate than 5\n",
    "\n",
    "print(index)"
   ]
  },
  {
   "cell_type": "code",
   "execution_count": null,
   "metadata": {},
   "outputs": [],
   "source": []
  }
 ],
 "metadata": {
  "kernelspec": {
   "display_name": "Python 3",
   "language": "python",
   "name": "python3"
  },
  "language_info": {
   "codemirror_mode": {
    "name": "ipython",
    "version": 3
   },
   "file_extension": ".py",
   "mimetype": "text/x-python",
   "name": "python",
   "nbconvert_exporter": "python",
   "pygments_lexer": "ipython3",
   "version": "3.7.3"
  }
 },
 "nbformat": 4,
 "nbformat_minor": 2
}
