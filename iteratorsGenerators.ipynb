{
 "cells": [
  {
   "cell_type": "markdown",
   "id": "d419bf62-e107-453d-96a1-e88aa79874e5",
   "metadata": {},
   "source": [
    "## Iterators\n",
    "> An iterator is an object that can be iterated (looped) over or an object which contains a countable number of values. It consists of two main methods: ` __iter__()` and `__next__()`. <br> In the provided example, the `__iter__` method is not strictly necessary because the __iter__ method of the iterator is, by default, the iterator object itself (in this case, self). In Python, if the __iter__ method is not explicitly defined, and the object has a `__next__` method, the object is considered its own iterator.<br> \n",
    "**Implicit Iterator:**\n",
    "If an object has a `__next__` method, and the `__iter__` method is not explicitly defined, Python considers the object itself as the iterator.\n",
    "The `__next__` method is called for each iteration.\n",
    "<br>**Using self as Iterator:**\n",
    "Since the SimpleIterator class has a `__next__` method, and `__iter__` is not defined, the instance of the class (self) is used as the iterator. <br>\n",
    "The for loop implicitly calls the `__iter__` method (which is not explicitly defined), and since it's not defined, it defaults to using self (the instance of SimpleIterator) as the iterator. Then, it calls the `__next__` method for each iteration."
   ]
  },
  {
   "cell_type": "code",
   "execution_count": null,
   "id": "c88f38b7-62d4-4c11-930a-5c014798ae39",
   "metadata": {},
   "outputs": [],
   "source": [
    "# Simple iterator Example\n",
    "iter_list = iter([x*x for x in range(20) if x % 2 == 0])\n",
    "print(next(iter_list))\n",
    "print(next(iter_list))"
   ]
  },
  {
   "cell_type": "code",
   "execution_count": null,
   "id": "5f218922-ae8e-48d8-afe0-bd5a070f201b",
   "metadata": {},
   "outputs": [],
   "source": [
    "# iterator complex Example \n",
    "class generate_iterator:\n",
    "    def __init__(self, start, end):\n",
    "        self.start = start\n",
    "        self.end = end\n",
    "        \n",
    "    def __iter__(self):\n",
    "        return self\n",
    "    \n",
    "    def __next__(self):\n",
    "        if self.start < self.end:\n",
    "            result = self.start\n",
    "            self.start += 1\n",
    "            return result\n",
    "        else:\n",
    "            raise StopIteration\n",
    "        \n",
    "creat_iter = generate_iterator(1,5)\n",
    "# for val in creat_iter:\n",
    "#     print(val)\n",
    "print(next(creat_iter))\n",
    "print(next(creat_iter))"
   ]
  },
  {
   "cell_type": "markdown",
   "id": "7479b7be-9a1a-4224-b656-043bcba7c2f9",
   "metadata": {},
   "source": [
    "**Lazy evaluation:**\n",
    "> An evaluation strategy where the execution of an expression is delayed until the result is actually needed. In other words, the values are computed on-demand rather than eagerly evaluated. This can lead to more efficient memory usage and improved performance in certain scenarios."
   ]
  },
  {
   "cell_type": "code",
   "execution_count": null,
   "id": "81237f04-6ff8-4108-8fd2-78fa9088aeb7",
   "metadata": {},
   "outputs": [],
   "source": [
    "# Lazy Evaluation/Generator Example\n",
    "def lazy_evaluation():\n",
    "    for i in range(10):\n",
    "        print(f\"Processing element {i}\")\n",
    "        yield i * 2\n",
    "        \n",
    "lazy_eval = lazy_evaluation()\n",
    "print(next(lazy_eval))\n",
    "\n",
    "# for val in lazy_eval:\n",
    "#     print(f\"Received result {val}\")\n",
    "print(next(lazy_eval))\n",
    "#print(next(lazy_eval))"
   ]
  },
  {
   "cell_type": "markdown",
   "id": "d2d94231-aa13-42be-94cf-bbc28bdf4c9a",
   "metadata": {},
   "source": [
    "**Generators:**\n",
    "> Generators are a concise way to create iterators in Python. They are defined using a function with the yield keyword, which saves the state of the function and can be resumed later. <br>\n",
    "A generator in Python is a special type of iterator that allows you to iterate over a potentially large sequence of data without loading the entire sequence into memory. Unlike regular functions that compute all values at once and return them in a list, generators produce values one at a time using the yield keyword. <br>\n",
    "> - **Lazy Evaluation:**\n",
    "Generators use lazy evaluation, meaning they produce values on-the-fly as they are needed, rather than computing and storing all values in advance.\n",
    "> - **Memory Efficiency:**\n",
    "Generators are memory-efficient, particularly for handling large datasets, as they only maintain the current state and do not store the entire sequence in memory.\n",
    "> - **State Maintenance:**\n",
    "The generator function retains its state between successive calls, allowing it to continue execution from where it left off.\n",
    "> - **Syntax:**\n",
    "Generators are defined using functions with the yield keyword, which temporarily suspends the function's state, allowing it to be resumed later.\n",
    "\n",
    "#### Difference between Iterators and Generators:\n",
    "> **Creation:**\n",
    "Iterators: Created by implementing the __iter__ and __next__ methods in a class. The __iter__ method returns the iterator object, and __next__ is responsible for producing the next value.<br>\n",
    "Generators: Created using a function with the yield keyword. The function automatically becomes an iterator, and each yield statement produces a value.<br>\n",
    "> **Memory Usage:**\n",
    "Iterators: May store the entire sequence in memory, leading to higher memory usage, especially for large datasets.<br>\n",
    "Generators: Consume memory on-demand, producing values one at a time, which is more memory-efficient.<br>\n",
    "> **Execution Flow:**\n",
    "Iterators: The entire iteration logic is defined in the `__next__` method, and the state is maintained within the class.<br>\n",
    "Generators: The function's state is suspended at each yield statement, allowing it to resume execution when the next value is needed.<br>\n",
    "> **Syntax:**\n",
    "Iterators: Requires explicit implementation of `__iter__` and `__next__` methods, leading to more boilerplate code.<br>\n",
    "Generators: Defined using a simpler syntax with the yield keyword, making the code more concise.<br>\n",
    "> **Use Cases:**\n",
    "Iterators: Useful when you need fine-grained control over the iteration process and want to encapsulate it within a class.\n",
    "Generators: Ideal for scenarios where lazy evaluation and memory efficiency are crucial, such as working with large datasets or infinite sequences.<br>\n",
    "while iterators are a more general concept, generators are a specific implementation of iterators in Python that simplifies the creation and use of iterators, especially in scenarios with lazy evaluation and memory constraints.<br>\n",
    "> Local Variables aren’t used in Iterators.                                         \n",
    "\n",
    "> All the local variables before the yield function are stored in generators. \n",
    "\n",
    "> Iterators are used mostly to iterate or convert other objects to an iterator using iter() function. <br>          Generators are mostly used in loops to generate an iterator by returning all the values in the loop without affecting the iteration of the loop<br>\n",
    "> Every iterator is not a generator\t\n",
    "> Every generator is an iterator"
   ]
  },
  {
   "cell_type": "code",
   "execution_count": null,
   "id": "6a568854-fa34-4444-b7e9-3d55ad9367f7",
   "metadata": {},
   "outputs": [],
   "source": [
    "# Simpple generator Example\n",
    "def simple_generator(start, end):\n",
    "    current = start\n",
    "    while current<end:\n",
    "        yield current\n",
    "        current += 1\n",
    "        \n",
    "simp_gen = simple_generator(1, 5)\n",
    "for val in simp_gen:\n",
    "    print(val)"
   ]
  },
  {
   "cell_type": "code",
   "execution_count": null,
   "id": "9bbe28d5-0e29-4db1-834b-fc5d804969f4",
   "metadata": {},
   "outputs": [],
   "source": [
    "# Fibonacci Sequence using Generator:\n",
    "def fibonacci(n):\n",
    "    a, b = 0, 1\n",
    "    count = 0\n",
    "    while count < n:\n",
    "        yield a\n",
    "        a, b = b, a+b\n",
    "        count += 1\n",
    "        \n",
    "fibo = fibonacci(10)\n",
    "# print(list(fibo))\n",
    "print(list(fibonacci(10)))"
   ]
  },
  {
   "cell_type": "code",
   "execution_count": null,
   "id": "c457c3e6-4dab-42f4-82b8-4a2de3d77ccb",
   "metadata": {},
   "outputs": [],
   "source": [
    "# Infinite Sequence using Generator:\n",
    "def infinite_sequence(start):\n",
    "    current = start\n",
    "    while True:\n",
    "        yield current\n",
    "        current += 1\n",
    "        \n",
    "infinite = infinite_sequence(3)\n",
    "for num in infinite:\n",
    "    if num > 10:\n",
    "        break\n",
    "    print(num)"
   ]
  },
  {
   "cell_type": "code",
   "execution_count": null,
   "id": "822af5a8-5139-42e9-a8bd-61b140e6592c",
   "metadata": {},
   "outputs": [],
   "source": [
    "# Customized range using generator\n",
    "def customize_rage(start, end, step=1):\n",
    "    current = start\n",
    "    while current < end:\n",
    "        yield current\n",
    "        current += step\n",
    "\n",
    "cust_range = customize_rage(0, 10, 2)\n",
    "print(list(cust_range))"
   ]
  }
 ],
 "metadata": {
  "kernelspec": {
   "display_name": "Python 3 (ipykernel)",
   "language": "python",
   "name": "python3"
  },
  "language_info": {
   "codemirror_mode": {
    "name": "ipython",
    "version": 3
   },
   "file_extension": ".py",
   "mimetype": "text/x-python",
   "name": "python",
   "nbconvert_exporter": "python",
   "pygments_lexer": "ipython3",
   "version": "3.11.5"
  }
 },
 "nbformat": 4,
 "nbformat_minor": 5
}
