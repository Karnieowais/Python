{
 "cells": [
  {
   "cell_type": "markdown",
   "id": "dd3ccb7c-5b23-4af3-a761-0f81357f3491",
   "metadata": {},
   "source": [
    "## Exception Handling in Python\n",
    "> Exception handling in Python is a mechanism to gracefully handle errors or exceptional situations that may occur during the execution of a program. It helps prevent abrupt program termination and allows developers to respond to errors in a controlled manner. The primary components of exception handling in Python are the try, except, else, and finally blocks.\n",
    "\n",
    "> Try-Except Block:\n",
    "The try block encloses the code that might raise an exception, and the except block handles specific exceptions that may occur.<br>\n",
    "> Exception handling is crucial for robust and reliable software. It allows developers to anticipate potential issues, handle errors gracefully, and ensure that the program continues to run smoothly even in the presence of unexpected conditions."
   ]
  },
  {
   "cell_type": "code",
   "execution_count": null,
   "id": "9be58741-b07f-4635-bdf8-409332b711d6",
   "metadata": {},
   "outputs": [],
   "source": [
    "# Basic Syntex\n",
    "try:\n",
    "    # Code that may raise an exception\n",
    "    # ...\n",
    "except SomeExceptionType:\n",
    "    # Code to handle the specific exception\n",
    "    # ...\n",
    "except AnotherExceptionType as e:\n",
    "    # Code to handle another specific exception and access the exception object\n",
    "    # ...\n",
    "except:\n",
    "    # Code to handle any other exception\n",
    "    # ...\n",
    "else:\n",
    "    # Code to execute if no exception occurred in the try block\n",
    "    # ...\n",
    "finally:\n",
    "    # Code to execute regardless of whether an exception occurred or not\n",
    "    # ...\n"
   ]
  },
  {
   "cell_type": "code",
   "execution_count": 1,
   "id": "6c6f2aca-a41c-4559-9799-b38adfde35f3",
   "metadata": {},
   "outputs": [
    {
     "name": "stdout",
     "output_type": "stream",
     "text": [
      "ZeroDivisionErrorOccured\n",
      "This Code Always Executes\n"
     ]
    }
   ],
   "source": [
    "# Example\n",
    "try:\n",
    "    x = 10/0\n",
    "except ZeroDivisionError:\n",
    "    print(\"ZeroDivisionErrorOccured\")\n",
    "except ArithmeticError as e:\n",
    "    print(f\"Arithmetic {e}\")\n",
    "else:\n",
    "    print(\"No Error\")\n",
    "finally:\n",
    "    print(\"This Code Always Executes\")"
   ]
  },
  {
   "cell_type": "markdown",
   "id": "04ecbd2f-8d91-4645-afb5-2807165656da",
   "metadata": {},
   "source": [
    "**Handling Multiple Exceptions:**\n",
    "> You can handle multiple exceptions by specifying multiple except blocks or by using a tuple to catch multiple exception types."
   ]
  },
  {
   "cell_type": "code",
   "execution_count": 4,
   "id": "86af9b5a-8ca8-4c47-9406-101284f5d074",
   "metadata": {},
   "outputs": [
    {
     "name": "stdout",
     "output_type": "stream",
     "text": [
      "Invalid Conversion to Int\n"
     ]
    }
   ],
   "source": [
    "try:\n",
    "    # Some code that may raise exceptions\n",
    "    val =  int(\"abc\")\n",
    "except (ValueError, TypeError):\n",
    "    print(\"Invalid Conversion to Int\")\n",
    "except Exception as e:\n",
    "    print(f\"some unknown exception occured {e}\")"
   ]
  },
  {
   "cell_type": "markdown",
   "id": "a5e6371a-a9cf-4d13-945f-5b995034af94",
   "metadata": {},
   "source": [
    "**Raising Exceptions:**\n",
    "> You can manually raise exceptions using the raise statement."
   ]
  },
  {
   "cell_type": "code",
   "execution_count": 12,
   "id": "d8d6c11f-6b7e-42c7-962e-0fef9e74150e",
   "metadata": {},
   "outputs": [
    {
     "name": "stdin",
     "output_type": "stream",
     "text": [
      "Enter your age greater than 0 :  -1\n"
     ]
    },
    {
     "name": "stdout",
     "output_type": "stream",
     "text": [
      " Error:   Age can not be negative\n"
     ]
    }
   ],
   "source": [
    "try:\n",
    "    age = int(input(\"Enter your age greater than 0 : \"))\n",
    "    if age < 0:\n",
    "        raise ValueError(\"Age can not be negative\")\n",
    "    else:\n",
    "        print(f\"You are {age} years old\")\n",
    "except ValueError as e:\n",
    "    print(f\" Error:   {e}\")\n",
    "        "
   ]
  },
  {
   "cell_type": "markdown",
   "id": "091ab08e-3e85-41a7-a8bd-fe7558590699",
   "metadata": {},
   "source": [
    "**Custom Exceptions:**\n",
    "> You can create custom exceptions by defining a new class that inherits from the built-in Exception class."
   ]
  },
  {
   "cell_type": "code",
   "execution_count": 16,
   "id": "4d1913dc-4fcb-4f12-b420-117bd504740e",
   "metadata": {},
   "outputs": [
    {
     "name": "stdout",
     "output_type": "stream",
     "text": [
      "Error: Thsi is a Custom Exception\n"
     ]
    }
   ],
   "source": [
    "class MyCustomError(Exception):\n",
    "    pass\n",
    "try:\n",
    "    raise MyCustomError(\"This is a Custom Exception\")\n",
    "except Exception as e:\n",
    "    print(f\"Error: {e}\")"
   ]
  },
  {
   "cell_type": "markdown",
   "id": "088088a1-1fa6-49f4-988b-414c6a7c02c6",
   "metadata": {},
   "source": [
    "**Assertions:**\n",
    "> Assertions are used to check if a given condition is true. If the condition is false, an AssertionError is raised."
   ]
  },
  {
   "cell_type": "code",
   "execution_count": 18,
   "id": "20b4b4b0-5837-4adf-9006-51f3d4140dac",
   "metadata": {},
   "outputs": [
    {
     "ename": "AssertionError",
     "evalue": "x should be greater than 0",
     "output_type": "error",
     "traceback": [
      "\u001b[0;31m---------------------------------------------------------------------------\u001b[0m",
      "\u001b[0;31mAssertionError\u001b[0m                            Traceback (most recent call last)",
      "Cell \u001b[0;32mIn[18], line 2\u001b[0m\n\u001b[1;32m      1\u001b[0m x \u001b[38;5;241m=\u001b[39m \u001b[38;5;241m10\u001b[39m\n\u001b[0;32m----> 2\u001b[0m \u001b[38;5;28;01massert\u001b[39;00m x \u001b[38;5;241m<\u001b[39m \u001b[38;5;241m10\u001b[39m, \u001b[38;5;124m\"\u001b[39m\u001b[38;5;124mx should be greater than 0\u001b[39m\u001b[38;5;124m\"\u001b[39m\n",
      "\u001b[0;31mAssertionError\u001b[0m: x should be greater than 0"
     ]
    }
   ],
   "source": [
    "x = 10\n",
    "assert x < 10, \"x should be greater than 0\""
   ]
  },
  {
   "cell_type": "markdown",
   "id": "678062f3-e43b-4961-bf7a-9a80a6c78daa",
   "metadata": {},
   "source": [
    "**Exception Hierarchy:**\n",
    "> Python has a hierarchy of built-in exception classes. The Exception class is the base class for all exceptions.<hr>\n",
    "\n",
    "- BaseException\n",
    "- Exception\n",
    "- ArithmeticError\n",
    "- ZeroDivisionError\n",
    "- ValueError\n",
    "..."
   ]
  },
  {
   "cell_type": "markdown",
   "id": "7b9115d1-6993-43d1-bd65-731d3f2e7e08",
   "metadata": {},
   "source": [
    "**Handling Unhandled Exceptions:**\n",
    "> You can use the except block without specifying an exception type to catch all unhandled exceptions."
   ]
  },
  {
   "cell_type": "code",
   "execution_count": null,
   "id": "d67d4049-8133-4b92-89ac-fdf2bea4fe1b",
   "metadata": {},
   "outputs": [],
   "source": [
    "# Unhandling Exception Handling Example \n",
    "tr:\n",
    "    #  Some code that may raise an exception\n",
    "    except:\n",
    "        print(b\"some unexpected error occured)"
   ]
  }
 ],
 "metadata": {
  "kernelspec": {
   "display_name": "Python 3 (ipykernel)",
   "language": "python",
   "name": "python3"
  },
  "language_info": {
   "codemirror_mode": {
    "name": "ipython",
    "version": 3
   },
   "file_extension": ".py",
   "mimetype": "text/x-python",
   "name": "python",
   "nbconvert_exporter": "python",
   "pygments_lexer": "ipython3",
   "version": "3.11.5"
  }
 },
 "nbformat": 4,
 "nbformat_minor": 5
}
