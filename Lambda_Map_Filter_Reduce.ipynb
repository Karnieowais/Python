{
 "cells": [
  {
   "cell_type": "markdown",
   "id": "22411ec2",
   "metadata": {},
   "source": [
    "\n",
    "### Lambda Functions in Python:\n",
    "> Lambda functions, also known as anonymous functions, are small, anonymous functions defined using the lambda keyword. They are often used for short-term operations where a full function definition seems overly verbose. The syntax for a lambda function is:<br><hr>\n",
    "> <center>  <b> lambda arguments: expression</b></center><hr>\n",
    "> Lambda functions are particularly useful when you need a short-lived function for a specific operation and don't want to define a full function using the def keyword. However, keep in mind that they are limited in terms of complexity and readability compared to regular functions. Use them judiciously for concise, one-off operations.<br>\n",
    "This function can have any number of arguments but only one expression, which is evaluated and returned."
   ]
  },
  {
   "cell_type": "code",
   "execution_count": 8,
   "id": "b1250ca5",
   "metadata": {},
   "outputs": [
    {
     "name": "stdout",
     "output_type": "stream",
     "text": [
      "Square of a number using general function 16\n",
      "Square of a number using lamnda function  16\n"
     ]
    }
   ],
   "source": [
    "# square of two number using functions\n",
    "def sqt_of_number(n):\n",
    "    return n**2\n",
    "print(\"Square of a number using general function\", sqt_of_number(4))\n",
    "\n",
    "# Square of a number using lambda function\n",
    "x = 4\n",
    "square = lambda x: x**2\n",
    "print(\"Square of a number using lamnda function \", square(x))"
   ]
  },
  {
   "cell_type": "markdown",
   "id": "a98d0af6",
   "metadata": {},
   "source": [
    "#### Lambda function with bulit in functions"
   ]
  },
  {
   "cell_type": "code",
   "execution_count": 9,
   "id": "d76bc98e",
   "metadata": {},
   "outputs": [
    {
     "name": "stdout",
     "output_type": "stream",
     "text": [
      "[(3, 10), (2, 15), (1, 20)]\n"
     ]
    }
   ],
   "source": [
    "# Sorting a list of tuples based on the second element\n",
    "pairs = [(1, 20), (3, 10), (2, 15)]\n",
    "sorted_pairs = sorted(pairs, key=lambda x: x[1])\n",
    "print(sorted_pairs)"
   ]
  },
  {
   "cell_type": "markdown",
   "id": "5f3fdca6",
   "metadata": {},
   "source": [
    "#### Lambda Function in higher order functions"
   ]
  },
  {
   "cell_type": "code",
   "execution_count": 14,
   "id": "4f499e8a",
   "metadata": {},
   "outputs": [
    {
     "name": "stdout",
     "output_type": "stream",
     "text": [
      "[1, 4, 9, 16, 25]\n"
     ]
    }
   ],
   "source": [
    "# Using map with lambda to square each element in a list\n",
    "numbers = [1, 2, 3, 4, 5]\n",
    "squared_numbers = list(map(lambda x: x**2, numbers))\n",
    "print(squared_numbers)\n",
    "# Output: [1, 4, 9, 16, 25]"
   ]
  },
  {
   "cell_type": "code",
   "execution_count": 15,
   "id": "f4694b16",
   "metadata": {},
   "outputs": [
    {
     "name": "stdout",
     "output_type": "stream",
     "text": [
      "[2, 4, 6, 8, 10]\n"
     ]
    }
   ],
   "source": [
    "# Using filter with lambda to get even numbers from a list\n",
    "numbers = [1, 2, 3, 4, 5, 6, 7, 8, 9, 10]\n",
    "even_numbers = list(filter(lambda x: x%2 == 0, numbers))\n",
    "print(even_numbers)\n",
    "# Output: [2, 4, 6, 8, 10]"
   ]
  },
  {
   "cell_type": "code",
   "execution_count": 18,
   "id": "1da76f33",
   "metadata": {},
   "outputs": [
    {
     "name": "stdout",
     "output_type": "stream",
     "text": [
      "['banana', 'apple', 'date', 'grape', 'cherry']\n"
     ]
    }
   ],
   "source": [
    "# Sorting a list of strings based on the last character\n",
    "words = [\"apple\", \"banana\", \"cherry\", \"date\", \"grape\"]\n",
    "sorted_words = list(sorted(words, key=lambda x: x[-1]))\n",
    "print(sorted_words)\n",
    "# Output: ['banana', 'date', 'cherry', 'apple', 'grape']"
   ]
  },
  {
   "cell_type": "code",
   "execution_count": null,
   "id": "0b569653",
   "metadata": {},
   "outputs": [],
   "source": [
    "\n",
    "sorted_words = sorted(words, key=lambda x: x[-1])\n"
   ]
  },
  {
   "cell_type": "markdown",
   "id": "bd6bcf64",
   "metadata": {},
   "source": [
    "### Map Function in python\n",
    "\n",
    "> The map() function in Python is a built-in function that is used for applying a specified function to all items in an iterable (e.g., a list) and returns an iterable map object (in Python 3) or a list (in Python 2) of the results. The syntax for the map() function is as follows:\n",
    "\n",
    "*<b><center>map(function, iterable, ...)</b>*\n",
    "> - function: The function to apply to each item in the iterable.\n",
    "> - iterable: One or more iterables (e.g., lists, tuples, etc.) whose elements will be passed to the function.\n",
    "\n",
    "> The map() function is a versatile tool for transforming data in Python, and it is commonly used in functional programming paradigms. It provides a concise way to apply a function to each element of an iterable and is particularly useful when combined with lambda functions for short-term operations."
   ]
  },
  {
   "cell_type": "code",
   "execution_count": 20,
   "id": "a963d1ac",
   "metadata": {},
   "outputs": [
    {
     "name": "stdout",
     "output_type": "stream",
     "text": [
      "[1, 4, 9, 16, 25]\n"
     ]
    }
   ],
   "source": [
    "# Define a function to square a number\n",
    "def square(x):\n",
    "    return x**2\n",
    "\n",
    "# Use map to square each element in a list\n",
    "numbers = [1, 2, 3, 4, 5]\n",
    "squared_numbers = map(square, numbers)\n",
    "\n",
    "# Convert the result to a list (in Python 3, it returns a map object)\n",
    "result_list = list(squared_numbers)\n",
    "\n",
    "print(result_list)\n",
    "\n",
    "# In this example, the square function is applied to each element in the numbers list using the map() function./\n",
    "# The result is a map object, which is converted to a list for printing.\n"
   ]
  },
  {
   "cell_type": "code",
   "execution_count": 21,
   "id": "9ce4f961",
   "metadata": {},
   "outputs": [
    {
     "name": "stdout",
     "output_type": "stream",
     "text": [
      "[2, 4, 6, 8, 10]\n"
     ]
    }
   ],
   "source": [
    "# Using map with two iterables\n",
    "numbers = [1, 2, 3, 4, 5]\n",
    "multiplier = 2\n",
    "\n",
    "result = map(lambda x, y: x * y, numbers, [multiplier] * len(numbers))\n",
    "# Here multiplier will  be [2,2,2,2,2] after [multiplier] * len(numbers)\n",
    "result_list = list(result)\n",
    "\n",
    "print(result_list)\n",
    "# Output: [2, 4, 6, 8, 10]\n",
    "\n",
    "# In this example, the map() function is used with two iterables – numbers \n",
    "# and a list of the same length containing the multiplier. \n",
    "# The lambda function multiplies corresponding elements from both iterables."
   ]
  },
  {
   "cell_type": "code",
   "execution_count": null,
   "id": "cb032c7d",
   "metadata": {},
   "outputs": [],
   "source": [
    "# Using map with multiple functions\n",
    "numbers = [1, 2, 3, 4, 5]\n",
    "\n",
    "# Define functions to square and cube\n",
    "square = lambda x: x**2\n",
    "cube = lambda x: x**3\n",
    "\n",
    "result = map(lambda x: (square(x), cube(x)), numbers)\n",
    "result_list = list(result)\n",
    "\n",
    "print(result_list)\n",
    "# Output: [(1, 1), (4, 8), (9, 27), (16, 64), (25, 125)]\n",
    "\n",
    "# Here, the map() function is used to apply two \n",
    "# lambda functions to each element in the numbers list, resulting in a list of tuples."
   ]
  },
  {
   "cell_type": "code",
   "execution_count": null,
   "id": "afc7982c",
   "metadata": {},
   "outputs": [],
   "source": [
    "# Using map to capitalize each word in a list of strings\n",
    "words = [\"python\", \"is\", \"awesome\"]\n",
    "capitalized_words = map(str.capitalize, words)\n",
    "\n",
    "result_list = list(capitalized_words)\n",
    "print(result_list)\n",
    "# Output: ['Python', 'Is', 'Awesome']"
   ]
  },
  {
   "cell_type": "markdown",
   "id": "dc73c5c6-7160-48d9-b611-8cdca4eaf526",
   "metadata": {},
   "source": [
    "### Filter Function\n",
    "\n",
    "> The filter() function in Python is a built-in function that is used for filtering elements of an iterable (e.g., a list) based on a specified function (predicate). It returns an iterable filter object (in Python 3) or a list (in Python 2) containing only the elements for which the function returns True. The syntax for the filter() function is as follows:<br>\n",
    "> <center> <b><i> filter(function, iterable)</i></b></center>\n",
    "\n",
    "> - function: The function that tests if each element of an iterable returns True or False.<br>\n",
    "> - iterable: The iterable to be filtered.<br>\n",
    "\n",
    "> The *`filter()`* function is a powerful tool for selectively extracting elements from an iterable based on a specified condition. It provides a concise way to filter data without the need for explicit loops. Keep in mind that in Python 3, *`filter()`* returns a filter object, and you may need to convert it to a list for printing or further use."
   ]
  },
  {
   "cell_type": "code",
   "execution_count": 3,
   "id": "25e750b3-f897-4861-be47-f10555fcdadb",
   "metadata": {},
   "outputs": [
    {
     "name": "stdout",
     "output_type": "stream",
     "text": [
      "[2, 4, 6, 8, 10]\n"
     ]
    }
   ],
   "source": [
    "# Define a function to filter even numbers\n",
    "def even_number(n):\n",
    "    return n % 2 == 0\n",
    "\n",
    "elements = [1,2,3,4,5,6,7,8,9,10]\n",
    "even_numbers = filter(even_number, elements)\n",
    "\n",
    "even_number_list = list(even_numbers)\n",
    "print(even_number_list)"
   ]
  },
  {
   "cell_type": "code",
   "execution_count": 11,
   "id": "9b5bbc4c-690e-4697-9309-ef0727fd3c5f",
   "metadata": {},
   "outputs": [
    {
     "name": "stdout",
     "output_type": "stream",
     "text": [
      "['kiwi', 'plum']\n"
     ]
    }
   ],
   "source": [
    "# Using filter to get words with more than 3 characters\n",
    "words = [\"apple\", \"mango\", \"banana\", \"kiwi\", \"grape\", \"plum\"]\n",
    "filtered_words = filter(lambda x: len(x) <= 4, words) \n",
    "filtered_words = list(filtered_words)\n",
    "print(filtered_words)\n"
   ]
  },
  {
   "cell_type": "code",
   "execution_count": 14,
   "id": "9e84a887-51f5-45d3-8a17-b5d48d6ae85c",
   "metadata": {},
   "outputs": [
    {
     "name": "stdout",
     "output_type": "stream",
     "text": [
      "[1, 3, 5, 6, 7, 8, 9, 10]\n"
     ]
    }
   ],
   "source": [
    "# Using filter with two functions\n",
    "numbers = [1, 2, 3, 4, 5, 6, 7, 8, 9, 10]\n",
    "is_odd = lambda x : x % 2 != 0\n",
    "is_greater_5 = lambda x: x > 5\n",
    "\n",
    "filtered_numbers = filter(lambda x: is_odd(x) or is_greater_5(x), numbers)\n",
    "filtered_numbers = list(filtered_numbers)\n",
    "print(filtered_numbers)"
   ]
  },
  {
   "cell_type": "code",
   "execution_count": 28,
   "id": "fbbff6b4-35d0-4cf0-be25-a84b1319aef9",
   "metadata": {},
   "outputs": [
    {
     "name": "stdout",
     "output_type": "stream",
     "text": [
      "[(1, True), (3, True)]\n"
     ]
    }
   ],
   "source": [
    "# Using filter with different-length iterables\n",
    "numbers = [1, 2, 3, 4, 5]\n",
    "filter_criteria = [True, False, True]\n",
    "\n",
    "#filtered_values = filter(lambda x, y: x, numbers, filter_criteria) \n",
    "filtered_numbers = filter(lambda x: x[1], zip(numbers, filter_criteria))\n",
    "print(list(filtered_numbers))"
   ]
  },
  {
   "cell_type": "code",
   "execution_count": 22,
   "id": "f13efe7c-d7bd-459c-9f7f-2c981639f3ed",
   "metadata": {},
   "outputs": [
    {
     "name": "stdout",
     "output_type": "stream",
     "text": [
      "[1, 'apple', 3.14, 'banana']\n"
     ]
    }
   ],
   "source": [
    "# Using filter to remove None values from a list\n",
    "mixed_data = [1, None, \"apple\", 3.14, None, \"banana\", None]\n",
    "\n",
    "filtered_data = filter(lambda x: x is not None, mixed_data)\n",
    "print(list(filtered_data))"
   ]
  },
  {
   "cell_type": "markdown",
   "id": "fece8cf7-62ff-44b1-8f94-1118dcbf650d",
   "metadata": {},
   "source": [
    "### Reduce Function in python\n",
    "> The `reduce()` function in Python is a built-in function provided by the functools module. It is used to successively apply a binary function to the items of an iterable, reducing the iterable to a single accumulated result. The syntax for the reduce() function is as follows:\n",
    "> <center> <b><i> functools.reduce(function, iterable[, initializer])</i></b></center>\n",
    "\n",
    "> - function: The binary function to apply successively to the items of the iterable. It should take two arguments.\n",
    "> - iterable: The iterable to be reduced.\n",
    "> - initializer: (Optional) If provided, it is placed before the items of the iterable in the calculation and serves as a default when the iterable is empty."
   ]
  },
  {
   "cell_type": "code",
   "execution_count": 51,
   "id": "0c02918b-0d00-4cc6-beeb-cf3ed4f815f9",
   "metadata": {},
   "outputs": [
    {
     "name": "stdout",
     "output_type": "stream",
     "text": [
      "120\n",
      "120\n"
     ]
    }
   ],
   "source": [
    "# Bsic Example\n",
    "from functools import reduce\n",
    "\n",
    "def multiply(x, y):\n",
    "    return x * y\n",
    "\n",
    "numbers = [1, 2, 3, 4,5]\n",
    "result = reduce(multiply, numbers)\n",
    "\n",
    "# using Lambda Function\n",
    "lam_result = reduce(lambda x,y: x * y, numbers)\n",
    "print(result)\n",
    "print(lam_result)\n",
    "# In this example, the multiply function is used as the binary function to successively\n",
    "# apply to the elements of the numbers list. The result is the product of all numbers in the list."
   ]
  },
  {
   "cell_type": "code",
   "execution_count": 53,
   "id": "88a1a589-d4bd-4319-8017-9ea924bdf74e",
   "metadata": {},
   "outputs": [
    {
     "name": "stdout",
     "output_type": "stream",
     "text": [
      "360\n"
     ]
    }
   ],
   "source": [
    "from functools import reduce\n",
    "\n",
    "# Use reduce with an initializer to calculate the product of all numbers\n",
    "numbers = [1, 2, 3, 4, 5]\n",
    "result = reduce(lambda x, y: x * y, numbers, 3)\n",
    "print(result)\n",
    "# In this example, an initializer of 1 is provided to the reduce() function. \n",
    "# It serves as the initial value for the accumulation, and the multiplication starts from this value."
   ]
  },
  {
   "cell_type": "code",
   "execution_count": 55,
   "id": "25a15dd7-70bb-4fe4-bb73-ff1ecb676671",
   "metadata": {},
   "outputs": [
    {
     "name": "stdout",
     "output_type": "stream",
     "text": [
      "10\n"
     ]
    }
   ],
   "source": [
    "from functools import reduce\n",
    "\n",
    "# Use reduce to find the maximum element in a list\n",
    "numbers = [1, 5, 3, 8, 2, 10]\n",
    "result = reduce(lambda x, y: x if x > y else y, numbers)\n",
    "print(result)"
   ]
  },
  {
   "cell_type": "code",
   "execution_count": null,
   "id": "daff008a-9d49-42a8-bc25-a79b19c096e1",
   "metadata": {},
   "outputs": [],
   "source": []
  }
 ],
 "metadata": {
  "kernelspec": {
   "display_name": "Python 3 (ipykernel)",
   "language": "python",
   "name": "python3"
  },
  "language_info": {
   "codemirror_mode": {
    "name": "ipython",
    "version": 3
   },
   "file_extension": ".py",
   "mimetype": "text/x-python",
   "name": "python",
   "nbconvert_exporter": "python",
   "pygments_lexer": "ipython3",
   "version": "3.11.5"
  }
 },
 "nbformat": 4,
 "nbformat_minor": 5
}
